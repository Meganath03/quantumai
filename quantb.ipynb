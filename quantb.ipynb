{
 "cells": [
  {
   "cell_type": "code",
   "execution_count": null,
   "metadata": {},
   "outputs": [
    {
     "name": "stdout",
     "output_type": "stream",
     "text": [
      "         id diagnosis  radius_mean  texture_mean  perimeter_mean  area_mean  \\\n",
      "0    842302         M        17.99         10.38          122.80     1001.0   \n",
      "1    842517         M        20.57         17.77          132.90     1326.0   \n",
      "2  84300903         M        19.69         21.25          130.00     1203.0   \n",
      "3  84348301         M        11.42         20.38           77.58      386.1   \n",
      "4  84358402         M        20.29         14.34          135.10     1297.0   \n",
      "\n",
      "   smoothness_mean  compactness_mean  concavity_mean  concave points_mean  \\\n",
      "0          0.11840           0.27760          0.3001              0.14710   \n",
      "1          0.08474           0.07864          0.0869              0.07017   \n",
      "2          0.10960           0.15990          0.1974              0.12790   \n",
      "3          0.14250           0.28390          0.2414              0.10520   \n",
      "4          0.10030           0.13280          0.1980              0.10430   \n",
      "\n",
      "   ...  radius_se  texture_se  perimeter_se  area_se  smoothness_se  \\\n",
      "0  ...     1.0950      0.9053         8.589   153.40       0.006399   \n",
      "1  ...     0.5435      0.7339         3.398    74.08       0.005225   \n",
      "2  ...     0.7456      0.7869         4.585    94.03       0.006150   \n",
      "3  ...     0.4956      1.1560         3.445    27.23       0.009110   \n",
      "4  ...     0.7572      0.7813         5.438    94.44       0.011490   \n",
      "\n",
      "   compactness_se  concavity_se  concave points_se  symmetry_se  \\\n",
      "0         0.04904       0.05373            0.01587      0.03003   \n",
      "1         0.01308       0.01860            0.01340      0.01389   \n",
      "2         0.04006       0.03832            0.02058      0.02250   \n",
      "3         0.07458       0.05661            0.01867      0.05963   \n",
      "4         0.02461       0.05688            0.01885      0.01756   \n",
      "\n",
      "   fractal_dimension_se  \n",
      "0              0.006193  \n",
      "1              0.003532  \n",
      "2              0.004571  \n",
      "3              0.009208  \n",
      "4              0.005115  \n",
      "\n",
      "[5 rows x 22 columns]\n",
      "   radius_mean  texture_mean  perimeter_mean  area_mean  smoothness_mean  \\\n",
      "0     0.979157     -2.476988        1.134651   0.928144         1.241256   \n",
      "1     1.749509     -0.511127        1.570247   1.943473        -1.319802   \n",
      "2     1.486753      0.414609        1.445175   1.559210         0.571699   \n",
      "3    -0.982553      0.183175       -0.815614  -0.992857         3.074931   \n",
      "4     1.665905     -1.423563        1.665129   1.852875        -0.135902   \n",
      "\n",
      "   compactness_mean  concavity_mean  concave points_mean  symmetry_mean  \\\n",
      "0          2.469299        2.348453             2.184917       1.582799   \n",
      "1         -0.786480       -0.355978             0.165738      -0.386866   \n",
      "2          0.543258        1.045709             1.680975       0.447078   \n",
      "3          2.572392        1.603846             1.085169       2.160395   \n",
      "4          0.099794        1.053320             1.061547      -0.396601   \n",
      "\n",
      "   fractal_dimension_mean  ...  texture_se  perimeter_se   area_se  \\\n",
      "0                1.717954  ...   -0.529825      2.702189  3.104226   \n",
      "1               -0.980367  ...   -0.862776      0.022836  0.777066   \n",
      "2               -0.573905  ...   -0.759822      0.635510  1.362377   \n",
      "3                4.011038  ...   -0.042832      0.047095 -0.597460   \n",
      "4               -0.715921  ...   -0.770700      1.075789  1.374406   \n",
      "\n",
      "   smoothness_se  compactness_se  concavity_se  concave points_se  \\\n",
      "0      -0.219208        0.980748      0.553653           0.472614   \n",
      "1      -0.704868       -0.799331     -0.499757           0.047596   \n",
      "2      -0.322214        0.536223      0.091568           1.283073   \n",
      "3       0.902276        2.245021      0.640013           0.954416   \n",
      "4       1.886833       -0.228577      0.648109           0.985389   \n",
      "\n",
      "   symmetry_se  fractal_dimension_se  diagnosis  \n",
      "0     0.793159              0.725695          1  \n",
      "1    -0.759028             -0.233284          1  \n",
      "2     0.068998              0.141154          1  \n",
      "3     3.639797              1.812250          1  \n",
      "4    -0.406083              0.337202          1  \n",
      "\n",
      "[5 rows x 21 columns]\n"
     ]
    }
   ],
   "source": [
    "import pandas as pd\n",
    "from sklearn.preprocessing import StandardScaler\n",
    "df = pd.read_csv(r'D:\\QUANT A MAZE\\cancerdata.csv')\n",
    "print(df.head())\n",
    "df = df.drop(columns=['id'])\n",
    "df['diagnosis'] = df['diagnosis'].map({'M': 1, 'B': 0})\n",
    "features = df.drop(columns=['diagnosis'])\n",
    "scaler = StandardScaler()\n",
    "scaled_features = scaler.fit_transform(features)\n",
    "scaled_data = pd.DataFrame(scaled_features, columns=features.columns)\n",
    "scaled_data['diagnosis'] = df['diagnosis']\n",
    "print(scaled_data.head())"
   ]
  },
  {
   "cell_type": "code",
   "execution_count": 1,
   "metadata": {},
   "outputs": [],
   "source": [
    "from qiskit.circuit.library import TwoLocal\n",
    "from qiskit_algorithms import VQE\n",
    "from qiskit_algorithms.optimizers import COBYLA\n",
    "from qiskit_aer import AerSimulator\n",
    "from qiskit.primitives import Estimator\n",
    "from qiskit.quantum_info import SparsePauliOp\n",
    "import numpy as np"
   ]
  },
  {
   "cell_type": "code",
   "execution_count": 2,
   "metadata": {},
   "outputs": [],
   "source": [
    "from qiskit.circuit.library import TwoLocal\n",
    "from qiskit_algorithms import VQE\n",
    "from qiskit_algorithms.optimizers import L_BFGS_B\n",
    "from qiskit_aer import AerSimulator\n",
    "from qiskit.primitives import Estimator\n",
    "from qiskit.quantum_info import SparsePauliOp\n",
    "import numpy as np"
   ]
  },
  {
   "cell_type": "code",
   "execution_count": null,
   "metadata": {},
   "outputs": [
    {
     "name": "stderr",
     "output_type": "stream",
     "text": [
      "C:\\Users\\MEGANATH N\\AppData\\Local\\Temp\\ipykernel_15384\\2717697544.py:14: DeprecationWarning: The class ``qiskit.primitives.estimator.Estimator`` is deprecated as of qiskit 1.2. It will be removed no earlier than 3 months after the release date. All implementations of the `BaseEstimatorV1` interface have been deprecated in favor of their V2 counterparts. The V2 alternative for the `Estimator` class is `StatevectorEstimator`.\n",
      "  estimator = Estimator()\n"
     ]
    }
   ],
   "source": [
    "var_form = TwoLocal(rotation_blocks='ry', entanglement_blocks='cz', reps=3)\n",
    "optimizer = L_BFGS_B(maxiter=100)\n",
    "simulator = AerSimulator()\n",
    "hamiltonian = SparsePauliOp.from_list([(\"Z\", 1), (\"I\", 1)])\n",
    "estimator = Estimator()\n",
    "vqe = VQE(estimator=estimator, ansatz=var_form, optimizer=optimizer)\n",
    "result = vqe.compute_minimum_eigenvalue(hamiltonian)"
   ]
  },
  {
   "cell_type": "code",
   "execution_count": null,
   "metadata": {},
   "outputs": [
    {
     "name": "stdout",
     "output_type": "stream",
     "text": [
      "Optimal parameters (optimal_point): [-5.46769504  3.87095598  2.92356953  1.8147622 ]\n",
      "Optimal eigenvalue (optimal_value): 3.3306690738754696e-16\n",
      "Number of optimizer evaluations (optimizer_evals): None\n",
      "Optimizer result: {   'fun': np.float64(3.3306690738754696e-16),\n",
      "    'jac': None,\n",
      "    'nfev': 25,\n",
      "    'nit': 3,\n",
      "    'njev': 5,\n",
      "    'x': array([-5.46769504,  3.87095598,  2.92356953,  1.8147622 ])}\n",
      "Time taken by optimizer (optimizer_time): 0.07225608825683594\n"
     ]
    }
   ],
   "source": [
    "optimal_point = result.optimal_point\n",
    "optimal_value = result.optimal_value\n",
    "optimizer_evals = result.optimizer_evals\n",
    "optimizer_result = result.optimizer_result\n",
    "optimizer_time = result.optimizer_time\n",
    "print(\"Optimal parameters (optimal_point):\", optimal_point)\n",
    "print(\"Optimal eigenvalue (optimal_value):\", optimal_value)\n",
    "print(\"Number of optimizer evaluations (optimizer_evals):\", optimizer_evals)\n",
    "print(\"Optimizer result:\", optimizer_result)\n",
    "print(\"Time taken by optimizer (optimizer_time):\", optimizer_time)"
   ]
  },
  {
   "cell_type": "code",
   "execution_count": null,
   "metadata": {},
   "outputs": [
    {
     "name": "stdout",
     "output_type": "stream",
     "text": [
      "Minimum eigenvalue: 3.3306690738754696e-16\n"
     ]
    }
   ],
   "source": [
    "min_eigenvalue = result.eigenvalue\n",
    "print(\"Minimum eigenvalue:\", min_eigenvalue)"
   ]
  },
  {
   "cell_type": "code",
   "execution_count": 10,
   "metadata": {},
   "outputs": [
    {
     "name": "stdout",
     "output_type": "stream",
     "text": [
      "0.15.1\n"
     ]
    }
   ],
   "source": [
    "import qiskit_aer\n",
    "print(qiskit_aer.__version__)"
   ]
  },
  {
   "cell_type": "code",
   "execution_count": 12,
   "metadata": {},
   "outputs": [],
   "source": [
    "from qiskit_aer.noise import NoiseModel, depolarizing_error\n",
    "from qiskit_aer import AerSimulator\n",
    "from qiskit import transpile\n",
    "from qiskit_algorithms import VQE\n",
    "from qiskit.primitives import Estimator"
   ]
  },
  {
   "cell_type": "code",
   "execution_count": 14,
   "metadata": {},
   "outputs": [
    {
     "data": {
      "text/plain": [
       "['_1qubit_instructions',\n",
       " '_2qubit_instructions',\n",
       " '_3qubit_instructions',\n",
       " '__class__',\n",
       " '__delattr__',\n",
       " '__dict__',\n",
       " '__dir__',\n",
       " '__doc__',\n",
       " '__eq__',\n",
       " '__format__',\n",
       " '__ge__',\n",
       " '__getattribute__',\n",
       " '__getstate__',\n",
       " '__gt__',\n",
       " '__hash__',\n",
       " '__init__',\n",
       " '__init_subclass__',\n",
       " '__le__',\n",
       " '__lt__',\n",
       " '__module__',\n",
       " '__ne__',\n",
       " '__new__',\n",
       " '__reduce__',\n",
       " '__reduce_ex__',\n",
       " '__repr__',\n",
       " '__setattr__',\n",
       " '__sizeof__',\n",
       " '__str__',\n",
       " '__subclasshook__',\n",
       " '__weakref__',\n",
       " '_all_qubit_quantum_errors_equal',\n",
       " '_check_number_of_qubits',\n",
       " '_instruction_names_labels',\n",
       " '_keys2str',\n",
       " '_local_quantum_errors_equal',\n",
       " '_pass_manager',\n",
       " '_readout_errors_equal',\n",
       " 'add_all_qubit_quantum_error',\n",
       " 'add_all_qubit_readout_error',\n",
       " 'add_basis_gates',\n",
       " 'add_quantum_error',\n",
       " 'add_readout_error',\n",
       " 'basis_gates',\n",
       " 'from_backend',\n",
       " 'from_backend_properties',\n",
       " 'from_dict',\n",
       " 'is_ideal',\n",
       " 'noise_instructions',\n",
       " 'noise_qubits',\n",
       " 'reset',\n",
       " 'to_dict']"
      ]
     },
     "execution_count": 14,
     "metadata": {},
     "output_type": "execute_result"
    }
   ],
   "source": [
    "dir(NoiseModel)"
   ]
  },
  {
   "cell_type": "code",
   "execution_count": null,
   "metadata": {},
   "outputs": [
    {
     "name": "stderr",
     "output_type": "stream",
     "text": [
      "C:\\Users\\MEGANATH N\\AppData\\Local\\Temp\\ipykernel_15384\\2913986126.py:35: DeprecationWarning: The class ``qiskit.primitives.estimator.Estimator`` is deprecated as of qiskit 1.2. It will be removed no earlier than 3 months after the release date. All implementations of the `BaseEstimatorV1` interface have been deprecated in favor of their V2 counterparts. The V2 alternative for the `Estimator` class is `StatevectorEstimator`.\n",
      "  vqe = VQE(estimator=Estimator(), ansatz=var_form, optimizer=optimizer)\n",
      "C:\\Users\\MEGANATH N\\AppData\\Local\\Temp\\ipykernel_15384\\2913986126.py:35: DeprecationWarning: The class ``qiskit.primitives.estimator.Estimator`` is deprecated as of qiskit 1.2. It will be removed no earlier than 3 months after the release date. All implementations of the `BaseEstimatorV1` interface have been deprecated in favor of their V2 counterparts. The V2 alternative for the `Estimator` class is `StatevectorEstimator`.\n",
      "  vqe = VQE(estimator=Estimator(), ansatz=var_form, optimizer=optimizer)\n",
      "C:\\Users\\MEGANATH N\\AppData\\Local\\Temp\\ipykernel_15384\\2913986126.py:35: DeprecationWarning: The class ``qiskit.primitives.estimator.Estimator`` is deprecated as of qiskit 1.2. It will be removed no earlier than 3 months after the release date. All implementations of the `BaseEstimatorV1` interface have been deprecated in favor of their V2 counterparts. The V2 alternative for the `Estimator` class is `StatevectorEstimator`.\n",
      "  vqe = VQE(estimator=Estimator(), ansatz=var_form, optimizer=optimizer)\n"
     ]
    },
    {
     "name": "stdout",
     "output_type": "stream",
     "text": [
      "Eigenvalues for different noise levels: [np.float64(0.0), np.float64(1.4432899320127035e-15), np.float64(0.0)]\n"
     ]
    }
   ],
   "source": [
    "noise_model = NoiseModel()\n",
    "depolarizing_1q = depolarizing_error(0.01, 1) \n",
    "depolarizing_2q = depolarizing_error(0.01, 2) \n",
    "noise_model.add_quantum_error(depolarizing_1q, ['u3'], [0]) \n",
    "noise_model.add_quantum_error(depolarizing_1q, ['u3'], [1]) \n",
    "noise_model.add_quantum_error(depolarizing_2q, ['cx'], [0, 1]) \n",
    "simulator_with_noise = AerSimulator(noise_model=noise_model)\n",
    "def zero_noise_extrapolation(hamiltonian, var_form, optimizer, noise_level):\n",
    "    noise_model = NoiseModel()\n",
    "    noise_model.add_quantum_error(depolarizing_error(noise_level, 1), ['u3'], [0])\n",
    "    noise_model.add_quantum_error(depolarizing_error(noise_level, 1), ['u3'], [1])\n",
    "    noise_model.add_quantum_error(depolarizing_error(noise_level, 2), ['cx'], [0, 1])\n",
    "    simulator = AerSimulator(noise_model=noise_model)\n",
    "    vqe = VQE(estimator=Estimator(), ansatz=var_form, optimizer=optimizer)\n",
    "    result = vqe.compute_minimum_eigenvalue(hamiltonian)    \n",
    "    return result.eigenvalue\n",
    "eigenvalues = []\n",
    "for noise_level in [0.01, 0.05, 0.1]:\n",
    "    eigenvalues.append(zero_noise_extrapolation(hamiltonian, var_form, optimizer, noise_level))\n",
    "print(\"Eigenvalues for different noise levels:\", eigenvalues)"
   ]
  },
  {
   "cell_type": "code",
   "execution_count": null,
   "metadata": {},
   "outputs": [
    {
     "name": "stdout",
     "output_type": "stream",
     "text": [
      "Eigenvalues for different noise levels:\n",
      "Noise level 1: 0.0\n",
      "Noise level 2: 1.4432899320127035e-15\n",
      "Noise level 3: 0.0\n"
     ]
    }
   ],
   "source": [
    "from qiskit_aer import AerSimulator, NoiseModel\n",
    "from qiskit.circuit.library import TwoLocal\n",
    "from qiskit.quantum_info import SparsePauliOp\n",
    "from qiskit.primitives import StatevectorEstimator\n",
    "from qiskit_algorithms import VQE\n",
    "from qiskit_algorithms.optimizers import COBYLA\n",
    "from qiskit_aer.noise import depolarizing_error\n",
    "var_form = TwoLocal(rotation_blocks='ry', entanglement_blocks='cz', reps=3)\n",
    "hamiltonian = SparsePauliOp.from_list([(\"Z\", 1), (\"I\", 1)])\n",
    "optimizer = COBYLA(maxiter=100)\n",
    "def zero_noise_extrapolation(hamiltonian, var_form, optimizer, noise_level):\n",
    "    noise_model = NoiseModel()\n",
    "    noise_model.add_quantum_error(depolarizing_error(noise_level, 1), ['u3'], [0]) \n",
    "    noise_model.add_quantum_error(depolarizing_error(noise_level, 1), ['u3'], [1])  \n",
    "    noise_model.add_quantum_error(depolarizing_error(noise_level, 2), ['cx'], [0, 1]) \n",
    "    simulator = AerSimulator(noise_model=noise_model)\n",
    "    vqe = VQE(estimator=StatevectorEstimator(), ansatz=var_form, optimizer=optimizer)\n",
    "    result = vqe.compute_minimum_eigenvalue(hamiltonian)\n",
    "    return result.eigenvalue.real\n",
    "eigenvalues = []\n",
    "for noise_level in [0.01, 0.05, 0.1]:\n",
    "    eigenvalues.append(zero_noise_extrapolation(hamiltonian, var_form, optimizer, noise_level))\n",
    "print(\"Eigenvalues for different noise levels:\", [float(ev) for ev in eigenvalues])\n"
   ]
  },
  {
   "cell_type": "code",
   "execution_count": null,
   "metadata": {},
   "outputs": [
    {
     "name": "stdout",
     "output_type": "stream",
     "text": [
      "Optimal eigenvalue (from VQE): 3.3306690738754696e-16\n",
      "Error before ZNE: 3.3306690738754696e-16\n",
      "\n",
      "Eigenvalues for different noise levels (before ZNE):\n",
      "Noise level 0.09: 1.0955680807001045e-12\n",
      "Noise level 0.05: 3.774758283725532e-15\n",
      "Noise level 0.07: 1.1102230246251565e-16\n",
      "\n",
      "Extrapolated eigenvalue after ZNE (zero noise): -1.5441536937999006e-12\n",
      "Error after ZNE: 1.5441536937999006e-12\n"
     ]
    },
    {
     "name": "stderr",
     "output_type": "stream",
     "text": [
      "C:\\Users\\MEGANATH N\\AppData\\Local\\Temp\\ipykernel_15384\\2913986126.py:35: DeprecationWarning: The class ``qiskit.primitives.estimator.Estimator`` is deprecated as of qiskit 1.2. It will be removed no earlier than 3 months after the release date. All implementations of the `BaseEstimatorV1` interface have been deprecated in favor of their V2 counterparts. The V2 alternative for the `Estimator` class is `StatevectorEstimator`.\n",
      "  vqe = VQE(estimator=Estimator(), ansatz=var_form, optimizer=optimizer)\n",
      "C:\\Users\\MEGANATH N\\AppData\\Local\\Temp\\ipykernel_15384\\2913986126.py:35: DeprecationWarning: The class ``qiskit.primitives.estimator.Estimator`` is deprecated as of qiskit 1.2. It will be removed no earlier than 3 months after the release date. All implementations of the `BaseEstimatorV1` interface have been deprecated in favor of their V2 counterparts. The V2 alternative for the `Estimator` class is `StatevectorEstimator`.\n",
      "  vqe = VQE(estimator=Estimator(), ansatz=var_form, optimizer=optimizer)\n",
      "C:\\Users\\MEGANATH N\\AppData\\Local\\Temp\\ipykernel_15384\\2913986126.py:35: DeprecationWarning: The class ``qiskit.primitives.estimator.Estimator`` is deprecated as of qiskit 1.2. It will be removed no earlier than 3 months after the release date. All implementations of the `BaseEstimatorV1` interface have been deprecated in favor of their V2 counterparts. The V2 alternative for the `Estimator` class is `StatevectorEstimator`.\n",
      "  vqe = VQE(estimator=Estimator(), ansatz=var_form, optimizer=optimizer)\n"
     ]
    }
   ],
   "source": [
    "optimal_eigenvalue = 3.3306690738754696e-16  \n",
    "ideal_eigenvalue = 0.0\n",
    "error_before_zne = abs(ideal_eigenvalue - optimal_eigenvalue)\n",
    "eigenvalues = []\n",
    "for noise_level in [0.09, 0.05, 0.07]:\n",
    "    eigenvalues.append(zero_noise_extrapolation(hamiltonian, var_form, optimizer, noise_level))\n",
    "noise_levels = np.array([0.09, 0.05, 0.07])\n",
    "noisy_eigenvalues = np.array(eigenvalues)\n",
    "slope, intercept = np.polyfit(noise_levels, noisy_eigenvalues, 1)\n",
    "zne_eigenvalue = intercept  \n",
    "error_after_zne = abs(ideal_eigenvalue - zne_eigenvalue)\n",
    "print(\"Optimal eigenvalue (from VQE):\", optimal_eigenvalue)\n",
    "print(\"Error before ZNE:\", error_before_zne)\n",
    "print(\"\\nEigenvalues for different noise levels (before ZNE):\")\n",
    "for i, eigenvalue in enumerate(eigenvalues):\n",
    "    print(f\"Noise level {noise_levels[i]}: {eigenvalue}\")\n",
    "print(\"\\nExtrapolated eigenvalue after ZNE (zero noise):\", zne_eigenvalue)\n",
    "print(f\"Error after ZNE: {error_after_zne}\")"
   ]
  },
  {
   "cell_type": "code",
   "execution_count": null,
   "metadata": {},
   "outputs": [],
   "source": [
    "from sklearn.metrics.pairwise import cosine_similarity\n",
    "quantum_eigenvalues = np.array([float(eigenvalue) for eigenvalue in eigenvalues])\n",
    "normalized_eigenvalues = (quantum_eigenvalues - np.min(quantum_eigenvalues)) / (np.max(quantum_eigenvalues) - np.min(quantum_eigenvalues))\n",
    "similarity_matrix = cosine_similarity(normalized_eigenvalues.reshape(-1, 1))\n",
    "from sklearn.metrics.pairwise import rbf_kernel\n",
    "similarity_matrix = rbf_kernel(normalized_eigenvalues.reshape(-1, 1), gamma=0.1)"
   ]
  },
  {
   "cell_type": "code",
   "execution_count": null,
   "metadata": {},
   "outputs": [
    {
     "name": "stdout",
     "output_type": "stream",
     "text": [
      "Quantum-enhanced cluster labels: [0 0 0]\n",
      "Number of clusters found: 1\n"
     ]
    }
   ],
   "source": [
    "from sklearn.cluster import AffinityPropagation\n",
    "affinity_model = AffinityPropagation(preference=-0.5)  \n",
    "affinity_model.fit(similarity_matrix)\n",
    "quantum_cluster_labels = affinity_model.labels_\n",
    "print(\"Quantum-enhanced cluster labels:\", quantum_cluster_labels)\n",
    "n_clusters = len(set(quantum_cluster_labels))\n",
    "print(f\"Number of clusters found: {n_clusters}\")"
   ]
  },
  {
   "cell_type": "code",
   "execution_count": null,
   "metadata": {},
   "outputs": [
    {
     "name": "stdout",
     "output_type": "stream",
     "text": [
      "Quantum-enhanced cluster labels: [0 0 0]\n"
     ]
    }
   ],
   "source": [
    "from sklearn.cluster import AffinityPropagation\n",
    "import numpy as np\n",
    "quantum_eigenvalues = np.array([1.0955680807001045e-12, 3.774758283725532e-15, 1.1102230246251565e-16])\n",
    "normalized_eigenvalues = (quantum_eigenvalues - np.min(quantum_eigenvalues)) / (np.max(quantum_eigenvalues) - np.min(quantum_eigenvalues))\n",
    "similarity_matrix = np.exp(-np.square(normalized_eigenvalues))\n",
    "affinity_model = AffinityPropagation(preference=-50) \n",
    "affinity_model.fit(similarity_matrix.reshape(-1, 1)) \n",
    "quantum_cluster_labels = affinity_model.labels_\n",
    "print(\"Quantum-enhanced cluster labels:\", quantum_cluster_labels)"
   ]
  },
  {
   "cell_type": "code",
   "execution_count": null,
   "metadata": {},
   "outputs": [
    {
     "name": "stdout",
     "output_type": "stream",
     "text": [
      "   radius_mean  texture_mean  perimeter_mean  area_mean  smoothness_mean  \\\n",
      "0     1.730303     -1.469461        1.724207   1.932045        -0.103481   \n",
      "1    -0.652430     -1.102501       -0.573276  -0.687675         2.098192   \n",
      "2     1.110306      0.052346        1.046290   1.110887        -0.557426   \n",
      "3    -0.269491      0.281696       -0.239566  -0.365601         1.385650   \n",
      "4    -0.485274      0.548822       -0.357655  -0.551241         2.058161   \n",
      "\n",
      "   compactness_mean  concavity_mean  concave points_mean  symmetry_mean  \\\n",
      "0          0.158779        1.135764             1.146484      -0.363668   \n",
      "1          0.801843        0.610292             0.514924       0.556388   \n",
      "2         -0.252644        0.020771             0.329044      -0.413311   \n",
      "3          0.706766       -0.228109            -0.052698       0.917129   \n",
      "4          1.202894        0.977599             0.855928       1.426801   \n",
      "\n",
      "   fractal_dimension_mean  ...  texture_se  perimeter_se   area_se  \\\n",
      "0               -0.739298  ...   -0.784188      1.134773  1.493163   \n",
      "1                1.590902  ...   -0.575210     -0.562326 -0.576704   \n",
      "2               -0.929216  ...   -0.799732     -0.054935  0.245702   \n",
      "3                1.372698  ...    0.358957      0.301240  0.154905   \n",
      "4                1.289188  ...   -0.360666     -0.462744 -0.665039   \n",
      "\n",
      "   smoothness_se  compactness_se  concavity_se  concave points_se  \\\n",
      "0       1.858569       -0.200606      0.646189           1.008400   \n",
      "1       0.233670        0.244116      0.051054          -0.271064   \n",
      "2      -1.071148       -0.743430     -0.367549          -0.438694   \n",
      "3       0.762374        0.085143     -0.298470           0.260906   \n",
      "4      -0.492635        0.323100      0.015924          -0.118828   \n",
      "\n",
      "   symmetry_se  fractal_dimension_se  diagnosis  \n",
      "0    -0.389042              0.362849          1  \n",
      "1     0.028277              0.350959          1  \n",
      "2    -0.783914             -0.694948          1  \n",
      "3    -0.664534              0.469853          1  \n",
      "4     0.005830             -0.129301          1  \n",
      "\n",
      "[5 rows x 21 columns]\n"
     ]
    }
   ],
   "source": [
    "import pandas as pd\n",
    "from sklearn.preprocessing import StandardScaler\n",
    "df = pd.read_csv(r\"D:\\QUANT A MAZE\\cancerdata1.csv\")\n",
    "df = df.drop(columns=['id']) \n",
    "df['diagnosis'] = df['diagnosis'].map({'M': 1, 'B': 0})\n",
    "features = df.drop(columns=['diagnosis'])\n",
    "scaler = StandardScaler()\n",
    "scaled_features = scaler.fit_transform(features)\n",
    "scaled_data = pd.DataFrame(scaled_features, columns=features.columns)\n",
    "scaled_data['diagnosis'] = df['diagnosis']\n",
    "print(scaled_data.head())"
   ]
  },
  {
   "cell_type": "code",
   "execution_count": null,
   "metadata": {},
   "outputs": [
    {
     "name": "stdout",
     "output_type": "stream",
     "text": [
      "Classical KMeans cluster labels: [0 1 0 1 1 2 1 0 2 0 2 0 1 0 0 1 1 1 2 0 0 2 1 0 0 0 0 1 0 0 1 0 1 1 0 1 1\n",
      " 1 2 1 1 0 1 1 1 1 1 1 1 0 1 1 0 1 1 1 1 1 2 1 1 1 1 1 2 1 0 2 0 1 1 0 1 2\n",
      " 2 1 1 1 2 2 1 0 1 0 1 1 1 1 1 1 0 0 1 1 1]\n"
     ]
    }
   ],
   "source": [
    "from sklearn.cluster import KMeans\n",
    "kmeans = KMeans(n_clusters=3) \n",
    "kmeans.fit(scaled_data.drop(columns=['diagnosis']))\n",
    "classical_cluster_labels = kmeans.labels_\n",
    "print(\"Classical KMeans cluster labels:\", classical_cluster_labels)"
   ]
  },
  {
   "cell_type": "code",
   "execution_count": null,
   "metadata": {},
   "outputs": [
    {
     "name": "stdout",
     "output_type": "stream",
     "text": [
      "10 95\n"
     ]
    }
   ],
   "source": [
    "print(len(quantum_cluster_labels), len(classical_cluster_labels))"
   ]
  },
  {
   "cell_type": "code",
   "execution_count": 102,
   "metadata": {},
   "outputs": [
    {
     "name": "stdout",
     "output_type": "stream",
     "text": [
      "Adjusted Rand Index (ARI): 0.00\n"
     ]
    }
   ],
   "source": [
    "from sklearn.metrics import adjusted_rand_score\n",
    "ari_score = adjusted_rand_score(quantum_cluster_labels, classical_cluster_labels)\n",
    "print(f\"Adjusted Rand Index (ARI): {ari_score:.2f}\")"
   ]
  },
  {
   "cell_type": "code",
   "execution_count": 103,
   "metadata": {},
   "outputs": [
    {
     "name": "stdout",
     "output_type": "stream",
     "text": [
      "Normalized Mutual Information (NMI): 0.00\n"
     ]
    }
   ],
   "source": [
    "from sklearn.metrics import normalized_mutual_info_score\n",
    "nmi_score = normalized_mutual_info_score(quantum_cluster_labels, classical_cluster_labels)\n",
    "print(f\"Normalized Mutual Information (NMI): {nmi_score:.2f}\")"
   ]
  },
  {
   "cell_type": "code",
   "execution_count": 104,
   "metadata": {},
   "outputs": [
    {
     "name": "stdout",
     "output_type": "stream",
     "text": [
      "Accuracy between Quantum and Classical Clustering: 40.00%\n"
     ]
    }
   ],
   "source": [
    "from sklearn.metrics import accuracy_score\n",
    "accuracy = accuracy_score(quantum_cluster_labels, classical_cluster_labels)\n",
    "print(f\"Accuracy between Quantum and Classical Clustering: {accuracy * 100:.2f}%\")"
   ]
  }
 ],
 "metadata": {
  "kernelspec": {
   "display_name": "Python 3",
   "language": "python",
   "name": "python3"
  },
  "language_info": {
   "codemirror_mode": {
    "name": "ipython",
    "version": 3
   },
   "file_extension": ".py",
   "mimetype": "text/x-python",
   "name": "python",
   "nbconvert_exporter": "python",
   "pygments_lexer": "ipython3",
   "version": "3.12.6"
  }
 },
 "nbformat": 4,
 "nbformat_minor": 2
}
