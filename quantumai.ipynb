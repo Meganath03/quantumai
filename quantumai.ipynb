{
 "cells": [
  {
   "cell_type": "code",
   "execution_count": null,
   "metadata": {},
   "outputs": [],
   "source": [
    "import pandas as pd\n",
    "data = pd.read_csv(\"D:/QUANT A MAZE/cancerdata.csv\")\n",
    "print(data.head())"
   ]
  },
  {
   "cell_type": "code",
   "execution_count": 2,
   "metadata": {},
   "outputs": [
    {
     "name": "stdout",
     "output_type": "stream",
     "text": [
      "[[ 0.97915688 -2.47698791  1.13465054  0.92814449  1.24125619  2.46929921\n",
      "   2.34845284  2.18491729  1.58279949  1.71795434  2.5898539  -0.52982547\n",
      "   2.70218857  3.10422556 -0.21920822  0.98074829  0.5536528   0.47261407\n",
      "   0.79315935  0.72569518]\n",
      " [ 1.74950867 -0.51112747  1.57024698  1.94347312 -1.31980163 -0.78647967\n",
      "  -0.35597823  0.16573795 -0.38686648 -0.98036674  0.29658718 -0.86277599\n",
      "   0.02283588  0.77706614 -0.70486768 -0.79933123 -0.49975668  0.04759617\n",
      "  -0.75902767 -0.23328439]\n",
      " [ 1.48675302  0.41460924  1.44517474  1.55921029  0.57169859  0.54325793\n",
      "   1.04570861  1.68097548  0.44707776 -0.57390458  1.13696652 -0.75982163\n",
      "   0.63551006  1.36237666 -0.32221436  0.53622343  0.09156797  1.28307331\n",
      "   0.06899775  0.14115371]\n",
      " [-0.98255292  0.18317506 -0.81561394 -0.99285729  3.07493099  2.57239233\n",
      "   1.60384635  1.08516928  2.16039512  4.01103754  0.09740771 -0.04283192\n",
      "   0.04709509 -0.59746007  0.90227626  2.24502057  0.64001258  0.95441574\n",
      "   3.63979725  1.81225038]\n",
      " [ 1.6659046  -1.42356337  1.66512938  1.85287457 -0.13590206  0.09979387\n",
      "   1.05331958  1.061547   -0.39660124 -0.71592148  1.18520204 -0.77069983\n",
      "   1.07578897  1.3744056   1.88683291 -0.22857714  0.64810881  0.9853887\n",
      "  -0.40608304  0.33720214]]\n"
     ]
    }
   ],
   "source": [
    "data = data.drop(columns=['id'])\n",
    "data['diagnosis'] = data['diagnosis'].map({'M': 1, 'B': 0})\n",
    "from sklearn.preprocessing import StandardScaler\n",
    "scaler = StandardScaler()\n",
    "scaled_data = scaler.fit_transform(data.drop(columns=['diagnosis']))\n",
    "print(scaled_data[:5])\n"
   ]
  }
 ],
 "metadata": {
  "kernelspec": {
   "display_name": "Python 3",
   "language": "python",
   "name": "python3"
  },
  "language_info": {
   "codemirror_mode": {
    "name": "ipython",
    "version": 3
   },
   "file_extension": ".py",
   "mimetype": "text/x-python",
   "name": "python",
   "nbconvert_exporter": "python",
   "pygments_lexer": "ipython3",
   "version": "3.12.6"
  }
 },
 "nbformat": 4,
 "nbformat_minor": 2
}
