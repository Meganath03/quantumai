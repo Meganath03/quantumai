{
 "cells": [
  {
   "cell_type": "code",
   "execution_count": null,
   "metadata": {},
   "outputs": [],
   "source": [
    "# Install Qiskit and other dependencies\n",
    "!pip install qiskit numpy pandas scikit-learn"
   ]
  },
  {
   "cell_type": "code",
   "execution_count": null,
   "metadata": {},
   "outputs": [],
   "source": [
    "# Import necessary libraries\n",
    "import numpy as np\n",
    "import pandas as pd\n",
    "from sklearn.preprocessing import StandardScaler, LabelEncoder\n",
    "from sklearn.model_selection import train_test_split\n",
    "# Load the dataset (use raw string to avoid escape sequence errors)\n",
    "file_path = r\"D:\\QUANT A MAZE\\cancerdata.csv\"\n",
    "data = pd.read_csv(file_path)\n",
    "# Check the data\n",
    "print(data.head())"
   ]
  },
  {
   "cell_type": "code",
   "execution_count": 3,
   "metadata": {},
   "outputs": [
    {
     "name": "stdout",
     "output_type": "stream",
     "text": [
      "X_train shape: (79, 21)\n",
      "y_train shape: (79,)\n"
     ]
    }
   ],
   "source": [
    "# Example: Assuming 'diagnosis' is the target column and contains categorical data ('M' or 'B')\n",
    "# Step 1: Separate the target (y) from the features (X)\n",
    "X = data.drop(columns=['diagnosis'])  # Drop the target column\n",
    "y = data['diagnosis']  # Target column\n",
    "\n",
    "# Step 2: Encode the categorical target (e.g., 'M' for Malignant and 'B' for Benign)\n",
    "label_encoder = LabelEncoder()\n",
    "y = label_encoder.fit_transform(y)  # 'M' -> 1, 'B' -> 0\n",
    "\n",
    "# Step 3: Standardize the features to have mean 0 and variance 1 (excluding any non-numeric columns)\n",
    "# We check the types of columns and handle accordingly\n",
    "X_numeric = X.select_dtypes(include=[np.number])  # Select only numeric columns\n",
    "scaler = StandardScaler()\n",
    "X_scaled = scaler.fit_transform(X_numeric)\n",
    "\n",
    "# Step 4: Split the data into training and testing sets\n",
    "X_train, X_test, y_train, y_test = train_test_split(X_scaled, y, test_size=0.2, random_state=42)\n",
    "\n",
    "# Check the scaled features and target\n",
    "print(\"X_train shape:\", X_train.shape)\n",
    "print(\"y_train shape:\", y_train.shape)"
   ]
  },
  {
   "cell_type": "code",
   "execution_count": null,
   "metadata": {},
   "outputs": [],
   "source": []
  },
  {
   "cell_type": "code",
   "execution_count": 2,
   "metadata": {},
   "outputs": [],
   "source": [
    "# Import necessary modules\n",
    "from qiskit import QuantumCircuit, transpile\n",
    "from qiskit_aer import AerSimulator"
   ]
  },
  {
   "cell_type": "code",
   "execution_count": 3,
   "metadata": {},
   "outputs": [
    {
     "name": "stdout",
     "output_type": "stream",
     "text": [
      "Measurement results: {'1': 514, '0': 510}\n"
     ]
    }
   ],
   "source": [
    "# Create a quantum circuit with 1 qubit and 1 classical bit\n",
    "qc = QuantumCircuit(1, 1)\n",
    "\n",
    "# Add a Hadamard gate to the qubit\n",
    "qc.h(0)\n",
    "\n",
    "# Measure the qubit into the classical bit\n",
    "qc.measure(0, 0)\n",
    "\n",
    "# Use the AerSimulator to simulate the circuit\n",
    "simulator = AerSimulator()\n",
    "\n",
    "# Transpile the circuit to optimize it for simulation\n",
    "compiled_circuit = transpile(qc, simulator)\n",
    "\n",
    "# Run the simulation\n",
    "result = simulator.run(compiled_circuit).result()\n",
    "\n",
    "# Get the counts (measurement results)\n",
    "counts = result.get_counts()\n",
    "\n",
    "# Print the results\n",
    "print(\"Measurement results:\", counts)"
   ]
  },
  {
   "cell_type": "code",
   "execution_count": null,
   "metadata": {},
   "outputs": [],
   "source": [
    "pip install qiskit-nature"
   ]
  },
  {
   "cell_type": "code",
   "execution_count": 9,
   "metadata": {},
   "outputs": [
    {
     "name": "stdout",
     "output_type": "stream",
     "text": [
      "VQE result: {   'aux_operators_evaluated': None,\n",
      "    'cost_function_evals': 55,\n",
      "    'eigenvalue': np.float64(1.602931798405649e-08),\n",
      "    'optimal_circuit': <qiskit.circuit.library.n_local.two_local.TwoLocal object at 0x000001EBFFA2C1A0>,\n",
      "    'optimal_parameters': {   ParameterVectorElement(θ[3]): np.float64(1.0649202759373666),\n",
      "                              ParameterVectorElement(θ[2]): np.float64(-1.1271268263693932),\n",
      "                              ParameterVectorElement(θ[0]): np.float64(-3.3118215469808376),\n",
      "                              ParameterVectorElement(θ[1]): np.float64(0.23225639456780242)},\n",
      "    'optimal_point': array([-3.31182155,  0.23225639, -1.12712683,  1.06492028]),\n",
      "    'optimal_value': np.float64(1.602931798405649e-08),\n",
      "    'optimizer_evals': None,\n",
      "    'optimizer_result': <qiskit_algorithms.optimizers.optimizer.OptimizerResult object at 0x000001EBFF807B30>,\n",
      "    'optimizer_time': 0.1479940414428711}\n"
     ]
    },
    {
     "name": "stderr",
     "output_type": "stream",
     "text": [
      "C:\\Users\\MEGANATH N\\AppData\\Local\\Temp\\ipykernel_18076\\1904026954.py:19: DeprecationWarning: The class ``qiskit.primitives.estimator.Estimator`` is deprecated as of qiskit 1.2. It will be removed no earlier than 3 months after the release date. All implementations of the `BaseEstimatorV1` interface have been deprecated in favor of their V2 counterparts. The V2 alternative for the `Estimator` class is `StatevectorEstimator`.\n",
      "  estimator = Estimator()\n"
     ]
    }
   ],
   "source": [
    "from qiskit_aer import Aer\n",
    "from qiskit.circuit.library import TwoLocal\n",
    "from qiskit_algorithms import VQE\n",
    "from qiskit_algorithms.optimizers import COBYLA\n",
    "from qiskit.primitives import Estimator\n",
    "from qiskit.quantum_info import SparsePauliOp\n",
    "import numpy as np\n",
    "\n",
    "# Define quantum circuit using TwoLocal ansatz\n",
    "var_form = TwoLocal(rotation_blocks='ry', entanglement_blocks='cz', reps=3)\n",
    "\n",
    "# Define the optimizer\n",
    "optimizer = COBYLA(maxiter=100)\n",
    "\n",
    "# Define the backend for simulation\n",
    "backend = Aer.get_backend('statevector_simulator')\n",
    "\n",
    "# Create the Estimator (alternative to the deprecated StatevectorEstimator)\n",
    "estimator = Estimator()\n",
    "\n",
    "# Define Hamiltonian using SparsePauliOp (Pauli-Z for simplicity)\n",
    "hamiltonian = SparsePauliOp.from_list([(\"Z\", 1), (\"I\", 1)])  # Hamiltonian: Z + I\n",
    "\n",
    "# Set up VQE with the estimator, ansatz, and optimizer\n",
    "vqe = VQE(estimator=estimator, ansatz=var_form, optimizer=optimizer)\n",
    "\n",
    "# Run the VQE algorithm to compute the minimum eigenvalue\n",
    "result = vqe.compute_minimum_eigenvalue(hamiltonian)\n",
    "\n",
    "# Print the result\n",
    "print(\"VQE result:\", result)\n"
   ]
  },
  {
   "cell_type": "code",
   "execution_count": 11,
   "metadata": {},
   "outputs": [],
   "source": [
    "def quantum_kernel(data_point1, data_point2, ansatz, estimator, backend):\n",
    "    \"\"\"\n",
    "    Calculate the quantum kernel (similarity) between two data points using VQE.\n",
    "    This will return the expectation value between the two points based on the ansatz and Hamiltonian.\n",
    "    \"\"\"\n",
    "\n",
    "    # Define Hamiltonian for the data points (based on your problem, this can be adjusted)\n",
    "    hamiltonian = SparsePauliOp.from_list([(\"Z\", 1), (\"I\", 1)])  # Example Hamiltonian: Z + I\n",
    "\n",
    "    # Assuming data_point1 and data_point2 are being encoded as quantum states\n",
    "    # Update this part based on how you map data to quantum states.\n",
    "\n",
    "    # Construct the quantum circuit for data_point1 and data_point2\n",
    "\n",
    "    # Calculate expectation value for data_point1 and data_point2 using VQE\n",
    "    # You can use the ansatz and estimator to calculate the expectation\n",
    "\n",
    "    # For simplicity, using VQE as an example\n",
    "    result1 = vqe.compute_minimum_eigenvalue(hamiltonian)\n",
    "    result2 = vqe.compute_minimum_eigenvalue(hamiltonian)\n",
    "\n",
    "    # Return the similarity (for now, use the minimum eigenvalue as a proxy for similarity)\n",
    "    return np.exp(-np.abs(result1.eigenvalue - result2.eigenvalue))\n"
   ]
  },
  {
   "cell_type": "code",
   "execution_count": 15,
   "metadata": {},
   "outputs": [],
   "source": [
    "import numpy as np\n",
    "from sklearn import metrics\n",
    "from sklearn.cluster import AffinityPropagation\n",
    "import matplotlib.pyplot as plt\n"
   ]
  },
  {
   "cell_type": "code",
   "execution_count": 17,
   "metadata": {},
   "outputs": [],
   "source": [
    "\n",
    "# Assuming `quantum_kernel` is your quantum kernel function that calculates similarity between two data points\n",
    "# You may need to implement the function `quantum_kernel` as per your setup using quantum circuits, VQE, etc.\n",
    "\n",
    "# Sample data (replace this with actual scaled feature data)\n",
    "data = np.random.rand(300, 2)  # Example: 300 data points in 2D (replace with actual data)\n"
   ]
  },
  {
   "cell_type": "code",
   "execution_count": 18,
   "metadata": {},
   "outputs": [],
   "source": [
    "# Define the kernel matrix using the quantum kernel\n",
    "n = len(data)\n",
    "kernel_matrix = np.zeros((n, n))\n"
   ]
  },
  {
   "cell_type": "code",
   "execution_count": 21,
   "metadata": {},
   "outputs": [
    {
     "ename": "NameError",
     "evalue": "name 'scaled_data' is not defined",
     "output_type": "error",
     "traceback": [
      "\u001b[1;31m---------------------------------------------------------------------------\u001b[0m",
      "\u001b[1;31mNameError\u001b[0m                                 Traceback (most recent call last)",
      "Cell \u001b[1;32mIn[21], line 4\u001b[0m\n\u001b[0;32m      1\u001b[0m \u001b[38;5;28;01mfrom\u001b[39;00m \u001b[38;5;21;01msklearn\u001b[39;00m\u001b[38;5;21;01m.\u001b[39;00m\u001b[38;5;21;01mcluster\u001b[39;00m \u001b[38;5;28;01mimport\u001b[39;00m AffinityPropagation\n\u001b[0;32m      3\u001b[0m \u001b[38;5;66;03m# Perform Affinity Propagation using the quantum eigenvalues (scaled data)\u001b[39;00m\n\u001b[1;32m----> 4\u001b[0m ap \u001b[38;5;241m=\u001b[39m AffinityPropagation()\u001b[38;5;241m.\u001b[39mfit(\u001b[43mscaled_data\u001b[49m)\n\u001b[0;32m      5\u001b[0m cluster_labels \u001b[38;5;241m=\u001b[39m ap\u001b[38;5;241m.\u001b[39mlabels_\n\u001b[0;32m      7\u001b[0m \u001b[38;5;66;03m# View the cluster labels\u001b[39;00m\n",
      "\u001b[1;31mNameError\u001b[0m: name 'scaled_data' is not defined"
     ]
    }
   ],
   "source": [
    "from sklearn.cluster import AffinityPropagation\n",
    "\n",
    "# Perform Affinity Propagation using the quantum eigenvalues (scaled data)\n",
    "ap = AffinityPropagation().fit(scaled_data)\n",
    "cluster_labels = ap.labels_\n",
    "\n",
    "# View the cluster labels\n",
    "print(\"Cluster Labels:\", cluster_labels)\n"
   ]
  }
 ],
 "metadata": {
  "kernelspec": {
   "display_name": "Python 3",
   "language": "python",
   "name": "python3"
  },
  "language_info": {
   "codemirror_mode": {
    "name": "ipython",
    "version": 3
   },
   "file_extension": ".py",
   "mimetype": "text/x-python",
   "name": "python",
   "nbconvert_exporter": "python",
   "pygments_lexer": "ipython3",
   "version": "3.12.6"
  }
 },
 "nbformat": 4,
 "nbformat_minor": 2
}
